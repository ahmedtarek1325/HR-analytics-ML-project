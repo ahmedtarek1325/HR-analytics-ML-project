{
  "cells": [
    {
      "cell_type": "markdown",
      "source": [
        "## Table of content\n",
        "1. [Loading data](#ch1) \n",
        "2. [Data Cleaning](#ch2)\n",
        "  * [Duplicates removal](#sec2.1)\n",
        "  * [Missing values handling](#sec2.2)\n",
        "  * [Adjusting datatypes](#sec2.3)\n",
        "3. [EDA](#CH3)\n",
        "4. [svm](#ch4)\n",
        "5. [Decision Tree classifier and Random Forest](#ch5)\n",
        "6. [Logistic Regression](#ch6)"
      ],
      "metadata": {
        "id": "Lyx99fWoFvB1"
      },
      "id": "Lyx99fWoFvB1"
    },
    {
      "cell_type": "code",
      "execution_count": 97,
      "metadata": {
        "id": "9e69dbe3"
      },
      "outputs": [],
      "source": [
        "import pandas as pd \n",
        "import numpy as np \n",
        "import matplotlib.pyplot as plt \n",
        "import seaborn as sb \n",
        "from sklearn.compose import ColumnTransformer\n",
        "from sklearn.preprocessing import QuantileTransformer\n",
        "from sklearn.preprocessing import OneHotEncoder\n",
        "%matplotlib inline "
      ],
      "id": "9e69dbe3"
    },
    {
      "cell_type": "code",
      "execution_count": 98,
      "metadata": {
        "id": "0NKKQMk6Ff4q"
      },
      "outputs": [],
      "source": [
        "import itertools\n",
        "from sklearn import datasets\n",
        "from sklearn.preprocessing import LabelEncoder\n",
        "from sklearn.preprocessing import StandardScaler\n",
        "from sklearn.model_selection import cross_val_score\n",
        "from sklearn.model_selection import train_test_split\n",
        "from sklearn import metrics\n",
        "from sklearn.model_selection import GridSearchCV\n",
        "from sklearn.preprocessing import StandardScaler\n",
        "from sklearn.preprocessing import StandardScaler\n",
        "from sklearn.linear_model import LogisticRegression\n",
        "from sklearn.metrics import accuracy_score\n",
        "from sklearn.feature_selection import RFE\n",
        "from sklearn.impute import KNNImputer\n",
        "import matplotlib.pyplot as plt\n",
        "import matplotlib.gridspec as gridspec\n",
        "from mlxtend.plotting import plot_decision_regions\n",
        "from mlxtend.preprocessing import shuffle_arrays_unison\n",
        "import seaborn as sns\n",
        "from tqdm.notebook import tqdm_notebook as tqdm\n",
        "from sklearn.svm import SVC\n",
        "from sklearn.ensemble import RandomForestClassifier\n",
        "from sklearn.tree import DecisionTreeClassifier\n",
        "from imblearn.over_sampling import RandomOverSampler, SMOTE\n",
        "from imblearn.under_sampling import RandomUnderSampler, NearMiss\n",
        "from collections import Counter\n",
        "from sklearn.metrics import classification_report\n",
        "from imblearn.over_sampling import SMOTE\n",
        "from sklearn.metrics import confusion_matrix\n",
        "from sklearn.metrics import precision_score, recall_score, accuracy_score, f1_score"
      ],
      "id": "0NKKQMk6Ff4q"
    },
    {
      "cell_type": "markdown",
      "metadata": {
        "id": "bc423d70"
      },
      "source": [
        "## 1. Loading Data  <a  class='anchor' id='ch1'> </a>"
      ],
      "id": "bc423d70"
    },
    {
      "cell_type": "code",
      "execution_count": 99,
      "metadata": {
        "id": "f09ff767"
      },
      "outputs": [],
      "source": [
        "data=pd.read_csv(\"aug_train.csv\",sep=\",\",index_col=False)\n",
        "data.head()\n",
        "data_imputed=data.copy()"
      ],
      "id": "f09ff767"
    },
    {
      "cell_type": "code",
      "execution_count": 100,
      "metadata": {
        "colab": {
          "base_uri": "https://localhost:8080/"
        },
        "id": "4e956251",
        "outputId": "26232b44-381c-450c-d67b-a43f4ea801c7"
      },
      "outputs": [
        {
          "output_type": "execute_result",
          "data": {
            "text/plain": [
              "Index(['enrollee_id', 'city', 'city_development_index', 'gender',\n",
              "       'relevent_experience', 'enrolled_university', 'education_level',\n",
              "       'major_discipline', 'experience', 'company_size', 'company_type',\n",
              "       'last_new_job', 'training_hours', 'target'],\n",
              "      dtype='object')"
            ]
          },
          "metadata": {},
          "execution_count": 100
        }
      ],
      "source": [
        "data.columns"
      ],
      "id": "4e956251"
    },
    {
      "cell_type": "markdown",
      "source": [
        ""
      ],
      "metadata": {
        "id": "NP2ByE6LFsir"
      },
      "id": "NP2ByE6LFsir"
    },
    {
      "cell_type": "code",
      "execution_count": 101,
      "metadata": {
        "colab": {
          "base_uri": "https://localhost:8080/"
        },
        "id": "21f0cb33",
        "outputId": "9b787475-b253-47ff-b693-4d91d533d171"
      },
      "outputs": [
        {
          "output_type": "stream",
          "name": "stdout",
          "text": [
            "(19158, 14)\n",
            "enrollee_id                 int64\n",
            "city                       object\n",
            "city_development_index    float64\n",
            "gender                     object\n",
            "relevent_experience        object\n",
            "enrolled_university        object\n",
            "education_level            object\n",
            "major_discipline           object\n",
            "experience                 object\n",
            "company_size               object\n",
            "company_type               object\n",
            "last_new_job               object\n",
            "training_hours              int64\n",
            "target                    float64\n",
            "dtype: object\n"
          ]
        }
      ],
      "source": [
        "# dataa shape and then description \n",
        "print(data.shape)\n",
        "print(data.dtypes)\n"
      ],
      "id": "21f0cb33"
    },
    {
      "cell_type": "code",
      "execution_count": 102,
      "metadata": {
        "colab": {
          "base_uri": "https://localhost:8080/",
          "height": 300
        },
        "id": "e3784cc1",
        "outputId": "49ece560-b962-46b2-af6a-9b11bd76c879"
      },
      "outputs": [
        {
          "output_type": "execute_result",
          "data": {
            "text/html": [
              "\n",
              "  <div id=\"df-adbdbbe4-48dd-4689-8557-c88d864597fd\">\n",
              "    <div class=\"colab-df-container\">\n",
              "      <div>\n",
              "<style scoped>\n",
              "    .dataframe tbody tr th:only-of-type {\n",
              "        vertical-align: middle;\n",
              "    }\n",
              "\n",
              "    .dataframe tbody tr th {\n",
              "        vertical-align: top;\n",
              "    }\n",
              "\n",
              "    .dataframe thead th {\n",
              "        text-align: right;\n",
              "    }\n",
              "</style>\n",
              "<table border=\"1\" class=\"dataframe\">\n",
              "  <thead>\n",
              "    <tr style=\"text-align: right;\">\n",
              "      <th></th>\n",
              "      <th>enrollee_id</th>\n",
              "      <th>city_development_index</th>\n",
              "      <th>training_hours</th>\n",
              "      <th>target</th>\n",
              "    </tr>\n",
              "  </thead>\n",
              "  <tbody>\n",
              "    <tr>\n",
              "      <th>count</th>\n",
              "      <td>19158.000000</td>\n",
              "      <td>19158.000000</td>\n",
              "      <td>19158.000000</td>\n",
              "      <td>19158.000000</td>\n",
              "    </tr>\n",
              "    <tr>\n",
              "      <th>mean</th>\n",
              "      <td>16875.358179</td>\n",
              "      <td>0.828848</td>\n",
              "      <td>65.366896</td>\n",
              "      <td>0.249348</td>\n",
              "    </tr>\n",
              "    <tr>\n",
              "      <th>std</th>\n",
              "      <td>9616.292592</td>\n",
              "      <td>0.123362</td>\n",
              "      <td>60.058462</td>\n",
              "      <td>0.432647</td>\n",
              "    </tr>\n",
              "    <tr>\n",
              "      <th>min</th>\n",
              "      <td>1.000000</td>\n",
              "      <td>0.448000</td>\n",
              "      <td>1.000000</td>\n",
              "      <td>0.000000</td>\n",
              "    </tr>\n",
              "    <tr>\n",
              "      <th>25%</th>\n",
              "      <td>8554.250000</td>\n",
              "      <td>0.740000</td>\n",
              "      <td>23.000000</td>\n",
              "      <td>0.000000</td>\n",
              "    </tr>\n",
              "    <tr>\n",
              "      <th>50%</th>\n",
              "      <td>16982.500000</td>\n",
              "      <td>0.903000</td>\n",
              "      <td>47.000000</td>\n",
              "      <td>0.000000</td>\n",
              "    </tr>\n",
              "    <tr>\n",
              "      <th>75%</th>\n",
              "      <td>25169.750000</td>\n",
              "      <td>0.920000</td>\n",
              "      <td>88.000000</td>\n",
              "      <td>0.000000</td>\n",
              "    </tr>\n",
              "    <tr>\n",
              "      <th>max</th>\n",
              "      <td>33380.000000</td>\n",
              "      <td>0.949000</td>\n",
              "      <td>336.000000</td>\n",
              "      <td>1.000000</td>\n",
              "    </tr>\n",
              "  </tbody>\n",
              "</table>\n",
              "</div>\n",
              "      <button class=\"colab-df-convert\" onclick=\"convertToInteractive('df-adbdbbe4-48dd-4689-8557-c88d864597fd')\"\n",
              "              title=\"Convert this dataframe to an interactive table.\"\n",
              "              style=\"display:none;\">\n",
              "        \n",
              "  <svg xmlns=\"http://www.w3.org/2000/svg\" height=\"24px\"viewBox=\"0 0 24 24\"\n",
              "       width=\"24px\">\n",
              "    <path d=\"M0 0h24v24H0V0z\" fill=\"none\"/>\n",
              "    <path d=\"M18.56 5.44l.94 2.06.94-2.06 2.06-.94-2.06-.94-.94-2.06-.94 2.06-2.06.94zm-11 1L8.5 8.5l.94-2.06 2.06-.94-2.06-.94L8.5 2.5l-.94 2.06-2.06.94zm10 10l.94 2.06.94-2.06 2.06-.94-2.06-.94-.94-2.06-.94 2.06-2.06.94z\"/><path d=\"M17.41 7.96l-1.37-1.37c-.4-.4-.92-.59-1.43-.59-.52 0-1.04.2-1.43.59L10.3 9.45l-7.72 7.72c-.78.78-.78 2.05 0 2.83L4 21.41c.39.39.9.59 1.41.59.51 0 1.02-.2 1.41-.59l7.78-7.78 2.81-2.81c.8-.78.8-2.07 0-2.86zM5.41 20L4 18.59l7.72-7.72 1.47 1.35L5.41 20z\"/>\n",
              "  </svg>\n",
              "      </button>\n",
              "      \n",
              "  <style>\n",
              "    .colab-df-container {\n",
              "      display:flex;\n",
              "      flex-wrap:wrap;\n",
              "      gap: 12px;\n",
              "    }\n",
              "\n",
              "    .colab-df-convert {\n",
              "      background-color: #E8F0FE;\n",
              "      border: none;\n",
              "      border-radius: 50%;\n",
              "      cursor: pointer;\n",
              "      display: none;\n",
              "      fill: #1967D2;\n",
              "      height: 32px;\n",
              "      padding: 0 0 0 0;\n",
              "      width: 32px;\n",
              "    }\n",
              "\n",
              "    .colab-df-convert:hover {\n",
              "      background-color: #E2EBFA;\n",
              "      box-shadow: 0px 1px 2px rgba(60, 64, 67, 0.3), 0px 1px 3px 1px rgba(60, 64, 67, 0.15);\n",
              "      fill: #174EA6;\n",
              "    }\n",
              "\n",
              "    [theme=dark] .colab-df-convert {\n",
              "      background-color: #3B4455;\n",
              "      fill: #D2E3FC;\n",
              "    }\n",
              "\n",
              "    [theme=dark] .colab-df-convert:hover {\n",
              "      background-color: #434B5C;\n",
              "      box-shadow: 0px 1px 3px 1px rgba(0, 0, 0, 0.15);\n",
              "      filter: drop-shadow(0px 1px 2px rgba(0, 0, 0, 0.3));\n",
              "      fill: #FFFFFF;\n",
              "    }\n",
              "  </style>\n",
              "\n",
              "      <script>\n",
              "        const buttonEl =\n",
              "          document.querySelector('#df-adbdbbe4-48dd-4689-8557-c88d864597fd button.colab-df-convert');\n",
              "        buttonEl.style.display =\n",
              "          google.colab.kernel.accessAllowed ? 'block' : 'none';\n",
              "\n",
              "        async function convertToInteractive(key) {\n",
              "          const element = document.querySelector('#df-adbdbbe4-48dd-4689-8557-c88d864597fd');\n",
              "          const dataTable =\n",
              "            await google.colab.kernel.invokeFunction('convertToInteractive',\n",
              "                                                     [key], {});\n",
              "          if (!dataTable) return;\n",
              "\n",
              "          const docLinkHtml = 'Like what you see? Visit the ' +\n",
              "            '<a target=\"_blank\" href=https://colab.research.google.com/notebooks/data_table.ipynb>data table notebook</a>'\n",
              "            + ' to learn more about interactive tables.';\n",
              "          element.innerHTML = '';\n",
              "          dataTable['output_type'] = 'display_data';\n",
              "          await google.colab.output.renderOutput(dataTable, element);\n",
              "          const docLink = document.createElement('div');\n",
              "          docLink.innerHTML = docLinkHtml;\n",
              "          element.appendChild(docLink);\n",
              "        }\n",
              "      </script>\n",
              "    </div>\n",
              "  </div>\n",
              "  "
            ],
            "text/plain": [
              "        enrollee_id  city_development_index  training_hours        target\n",
              "count  19158.000000            19158.000000    19158.000000  19158.000000\n",
              "mean   16875.358179                0.828848       65.366896      0.249348\n",
              "std     9616.292592                0.123362       60.058462      0.432647\n",
              "min        1.000000                0.448000        1.000000      0.000000\n",
              "25%     8554.250000                0.740000       23.000000      0.000000\n",
              "50%    16982.500000                0.903000       47.000000      0.000000\n",
              "75%    25169.750000                0.920000       88.000000      0.000000\n",
              "max    33380.000000                0.949000      336.000000      1.000000"
            ]
          },
          "metadata": {},
          "execution_count": 102
        }
      ],
      "source": [
        "data.describe()"
      ],
      "id": "e3784cc1"
    },
    {
      "cell_type": "code",
      "execution_count": 103,
      "metadata": {
        "colab": {
          "base_uri": "https://localhost:8080/"
        },
        "id": "a51855c4",
        "outputId": "14ce62cd-1138-442e-c452-46a169eaaaca"
      },
      "outputs": [
        {
          "output_type": "stream",
          "name": "stdout",
          "text": [
            "<class 'pandas.core.frame.DataFrame'>\n",
            "RangeIndex: 19158 entries, 0 to 19157\n",
            "Data columns (total 14 columns):\n",
            " #   Column                  Non-Null Count  Dtype  \n",
            "---  ------                  --------------  -----  \n",
            " 0   enrollee_id             19158 non-null  int64  \n",
            " 1   city                    19158 non-null  object \n",
            " 2   city_development_index  19158 non-null  float64\n",
            " 3   gender                  14650 non-null  object \n",
            " 4   relevent_experience     19158 non-null  object \n",
            " 5   enrolled_university     18772 non-null  object \n",
            " 6   education_level         18698 non-null  object \n",
            " 7   major_discipline        16345 non-null  object \n",
            " 8   experience              19093 non-null  object \n",
            " 9   company_size            13220 non-null  object \n",
            " 10  company_type            13018 non-null  object \n",
            " 11  last_new_job            18735 non-null  object \n",
            " 12  training_hours          19158 non-null  int64  \n",
            " 13  target                  19158 non-null  float64\n",
            "dtypes: float64(2), int64(2), object(10)\n",
            "memory usage: 2.0+ MB\n"
          ]
        }
      ],
      "source": [
        "data.info()"
      ],
      "id": "a51855c4"
    },
    {
      "cell_type": "markdown",
      "metadata": {
        "id": "ddfb2d03"
      },
      "source": [
        "1. We can see that most od the data is categorical \n",
        "2. we can alos note that we have alot of missing values in gender, enorlled university, edu level, major discpline , company size and comapy type and last neew jobs  "
      ],
      "id": "ddfb2d03"
    },
    {
      "cell_type": "markdown",
      "metadata": {
        "id": "ccab5dd8"
      },
      "source": [
        "## 2. Data Cleaning "
      ],
      "id": "ccab5dd8"
    },
    {
      "cell_type": "markdown",
      "metadata": {
        "id": "f8741f62"
      },
      "source": [
        "### A. Duplicates values check and removal "
      ],
      "id": "f8741f62"
    },
    {
      "cell_type": "code",
      "execution_count": 104,
      "metadata": {
        "colab": {
          "base_uri": "https://localhost:8080/"
        },
        "id": "99d8cce0",
        "outputId": "20aff23d-dffc-458e-a58b-d311f7bdc759"
      },
      "outputs": [
        {
          "output_type": "execute_result",
          "data": {
            "text/plain": [
              "0"
            ]
          },
          "metadata": {},
          "execution_count": 104
        }
      ],
      "source": [
        "### Check duplicates \n",
        "sum(data.duplicated())"
      ],
      "id": "99d8cce0"
    },
    {
      "cell_type": "code",
      "execution_count": 105,
      "metadata": {
        "colab": {
          "base_uri": "https://localhost:8080/"
        },
        "id": "32343ab1",
        "outputId": "e744dc1f-7a01-4c9c-8505-f797ac86b11f"
      },
      "outputs": [
        {
          "output_type": "stream",
          "name": "stdout",
          "text": [
            "check duplicates after removal 0\n"
          ]
        }
      ],
      "source": [
        "## REMOVING DUPLICATES \n",
        "data.drop_duplicates(inplace=True)\n",
        "print(\"check duplicates after removal\",sum(data.duplicated()))"
      ],
      "id": "32343ab1"
    },
    {
      "cell_type": "markdown",
      "metadata": {
        "id": "ad922687"
      },
      "source": [
        "### B. Handling Misssing Values  "
      ],
      "id": "ad922687"
    },
    {
      "cell_type": "code",
      "execution_count": 106,
      "metadata": {
        "colab": {
          "base_uri": "https://localhost:8080/",
          "height": 373
        },
        "id": "b7e16046",
        "outputId": "6d36a23f-824d-44df-9de9-ef6cac6e5af7"
      },
      "outputs": [
        {
          "output_type": "display_data",
          "data": {
            "image/png": "[encoded data removed]",
            "text/plain": [
              "<Figure size 432x288 with 1 Axes>"
            ]
          },
          "metadata": {
            "needs_background": "light"
          }
        }
      ],
      "source": [
        "missing = data.isnull().sum()\n",
        "missing = missing[missing > 0]\n",
        "missing.sort_values(inplace = True)\n",
        "missing.plot.bar();"
      ],
      "id": "b7e16046"
    },
    {
      "cell_type": "code",
      "execution_count": 107,
      "metadata": {
        "colab": {
          "base_uri": "https://localhost:8080/"
        },
        "id": "57053795",
        "outputId": "e57f6b40-24a0-4b85-c23c-6e0a1a644621"
      },
      "outputs": [
        {
          "output_type": "execute_result",
          "data": {
            "text/plain": [
              "Has relevent experience    13792\n",
              "No relevent experience      5366\n",
              "Name: relevent_experience, dtype: int64"
            ]
          },
          "metadata": {},
          "execution_count": 107
        }
      ],
      "source": [
        "data.relevent_experience.value_counts()"
      ],
      "id": "57053795"
    },
    {
      "cell_type": "code",
      "execution_count": 108,
      "metadata": {
        "id": "21dad2d3"
      },
      "outputs": [],
      "source": [
        "# now dealing with the first variable \n",
        "\n",
        "data.experience.replace(\">20\",21,inplace=True)\n",
        "data.experience.replace('<1',0,inplace=True)\n",
        "data.experience.value_counts()\n",
        "\n",
        "# here we will later impute the missing values \n",
        "data_imputed.experience.replace(\">20\",21,inplace=True)\n",
        "data_imputed.experience.replace('<1',0,inplace=True)"
      ],
      "id": "21dad2d3"
    },
    {
      "cell_type": "code",
      "execution_count": 109,
      "metadata": {
        "colab": {
          "base_uri": "https://localhost:8080/"
        },
        "id": "3d1112ce",
        "outputId": "ac5f30f5-fde9-496e-db9f-105b0e1ee013"
      },
      "outputs": [
        {
          "output_type": "stream",
          "name": "stdout",
          "text": [
            "number of missing values now  0\n"
          ]
        }
      ],
      "source": [
        "# now let's see the zeros \n",
        "#data.experience=data.experience.astype('int')\n",
        "data[data.experience.isna()] \n",
        "# when we print the above line we will find that the missing data is random hence we will impute it with the median \n",
        "data.experience.fillna(value=data.experience.median(),inplace=True)\n",
        "print(\"number of missing values now \",sum(data.experience.isna()))\n",
        "data.experience=data.experience.astype('int')\n"
      ],
      "id": "3d1112ce"
    },
    {
      "cell_type": "code",
      "execution_count": 110,
      "metadata": {
        "id": "838213fd"
      },
      "outputs": [],
      "source": [
        "#second variable imputing the enrolled universtiy  \n",
        "data.enrolled_university= data.enrolled_university.astype('category')\n",
        "data.enrolled_university = data.enrolled_university.cat.add_categories(['MISSING'])\n",
        "data.enrolled_university = data.enrolled_university.fillna('MISSING')\n",
        "\n",
        "\n",
        "clean1={'no_enrollment':0,'Part time course':1,'Full time course':2}\n",
        "data_imputed.enrolled_university=data_imputed.enrolled_university.replace(clean1)\n",
        "\n"
      ],
      "id": "838213fd"
    },
    {
      "cell_type": "code",
      "execution_count": 111,
      "metadata": {
        "colab": {
          "base_uri": "https://localhost:8080/"
        },
        "id": "804e2c45",
        "outputId": "89ee64f3-368a-4002-d6ae-2c9eb01aaad3"
      },
      "outputs": [
        {
          "output_type": "stream",
          "name": "stdout",
          "text": [
            "----------------\n",
            "data after replaceing never with zero and  >4 with 5\n",
            "1    8463\n",
            "5    3290\n",
            "2    2900\n",
            "0    2452\n",
            "4    1029\n",
            "3    1024\n",
            "Name: last_new_job, dtype: int64\n"
          ]
        }
      ],
      "source": [
        "# third variable  \n",
        "data.last_new_job.value_counts()\n",
        "data.replace(\"never\",0,inplace=True)\n",
        "data.replace(\">4\",5,inplace=True)\n",
        "data.last_new_job.fillna(data.last_new_job.median(),inplace=True);\n",
        "data.last_new_job=data.last_new_job.astype('int')\n",
        "print(\"----------------\")\n",
        "print(\"data after replaceing never with zero and  >4 with 5\")\n",
        "print(data.last_new_job.value_counts())\n",
        "\n",
        "\n",
        "data_imputed.replace(\"never\",0,inplace=True)\n",
        "data_imputed.replace(\">4\",5,inplace=True)\n",
        "\n"
      ],
      "id": "804e2c45"
    },
    {
      "cell_type": "code",
      "execution_count": 112,
      "metadata": {
        "id": "e30d5f8a"
      },
      "outputs": [],
      "source": [
        "# fourth variable  \n",
        "data['education_level']=data['education_level'].astype('category')\n",
        "data['education_level']=data['education_level'].cat.add_categories(['MISSING'])\n",
        "data['education_level']=data['education_level'].fillna('MISSING')\n",
        "\n",
        "\n",
        "clean2={'Primary School':1,'High School':2,'Graduate':3,'Masters':4,'Phd':5}\n",
        "data_imputed.education_level=data_imputed.education_level.replace(clean2)\n",
        "\n"
      ],
      "id": "e30d5f8a"
    },
    {
      "cell_type": "code",
      "execution_count": 113,
      "metadata": {
        "id": "d41dd6bf"
      },
      "outputs": [],
      "source": [
        "# Fifth variable  \n",
        "data['major_discipline']=data['major_discipline'].astype('category')\n",
        "data['major_discipline']=data['major_discipline'].cat.add_categories(['MISSING'])\n",
        "data['major_discipline']=data['major_discipline'].fillna('MISSING')\n",
        "\n",
        "data_imputed['major_discipline']=data_imputed['major_discipline'].astype('category')\n",
        "data_imputed['major_discipline']=data_imputed['major_discipline'].cat.add_categories(['MISSING'])\n",
        "data_imputed['major_discipline']=data_imputed['major_discipline'].fillna('MISSING')\n"
      ],
      "id": "d41dd6bf"
    },
    {
      "cell_type": "code",
      "execution_count": 114,
      "metadata": {
        "id": "344213a6"
      },
      "outputs": [],
      "source": [
        "# SIX VARIABLE \n",
        "data['gender']=data['gender'].astype('category')\n",
        "data['gender']=data['gender'].cat.add_categories(['MISSING'])\n",
        "data['gender']=data['gender'].fillna('MISSING')\n",
        "\n",
        "clean3={'Other':0,'Female':1,'Male':2}\n",
        "data_imputed.gender=data_imputed.gender.replace(clean3)\n",
        "\n"
      ],
      "id": "344213a6"
    },
    {
      "cell_type": "code",
      "execution_count": 115,
      "metadata": {
        "colab": {
          "base_uri": "https://localhost:8080/"
        },
        "id": "dXmbysbtMWhJ",
        "outputId": "3464bee5-741a-4298-bbea-37c5df5e06bf"
      },
      "outputs": [
        {
          "output_type": "execute_result",
          "data": {
            "text/plain": [
              "Pvt Ltd                9817\n",
              "Funded Startup         1001\n",
              "Public Sector           955\n",
              "Early Stage Startup     603\n",
              "NGO                     521\n",
              "Other                   121\n",
              "Name: company_type, dtype: int64"
            ]
          },
          "metadata": {},
          "execution_count": 115
        }
      ],
      "source": [
        "data.company_type.value_counts()"
      ],
      "id": "dXmbysbtMWhJ"
    },
    {
      "cell_type": "code",
      "execution_count": 116,
      "metadata": {
        "id": "9cf7ce11"
      },
      "outputs": [],
      "source": [
        "data['company_size']=data['company_size'].astype('category')\n",
        "data['company_size']=data['company_size'].cat.add_categories(['MISSING'])\n",
        "data['company_size']=data['company_size'].fillna('MISSING')\n",
        "\n",
        "data['company_type']=data['company_type'].astype('category')\n",
        "data['company_type']=data['company_type'].cat.add_categories(['MISSING'])\n",
        "data['company_type']=data['company_type'].fillna('MISSING')\n",
        "\n",
        "\n",
        "\n",
        "clean4={'<10':1,'10/49':2,'50-99':3,'100-500':4,'500-999':5,'1000-4999':6,'5000-9999':7,'10000+':8}\n",
        "data_imputed.company_size=data_imputed.company_size.replace(clean4)\n",
        "data_imputed['company_type']=data_imputed['company_type'].astype('category')\n",
        "data_imputed['company_type']=data_imputed['company_type'].cat.add_categories(['MISSING_companyType'])\n",
        "data_imputed['company_type']=data_imputed['company_type'].fillna('MISSING_companyType')\n",
        "clean5={'Other':'other_companyType'}\n",
        "data_imputed.company_type=data_imputed.company_type.replace(clean5)\n"
      ],
      "id": "9cf7ce11"
    },
    {
      "cell_type": "code",
      "execution_count": 117,
      "metadata": {
        "colab": {
          "base_uri": "https://localhost:8080/"
        },
        "id": "07fd14fe",
        "outputId": "da8b2423-7841-4c75-cb3b-a993a353474b"
      },
      "outputs": [
        {
          "output_type": "execute_result",
          "data": {
            "text/plain": [
              "enrollee_id               0\n",
              "city                      0\n",
              "city_development_index    0\n",
              "gender                    0\n",
              "relevent_experience       0\n",
              "enrolled_university       0\n",
              "education_level           0\n",
              "major_discipline          0\n",
              "experience                0\n",
              "company_size              0\n",
              "company_type              0\n",
              "last_new_job              0\n",
              "training_hours            0\n",
              "target                    0\n",
              "dtype: int64"
            ]
          },
          "metadata": {},
          "execution_count": 117
        }
      ],
      "source": [
        "# NOW CHECKING THE MISSING VALUES  \n",
        "data.isna().sum()"
      ],
      "id": "07fd14fe"
    },
    {
      "cell_type": "markdown",
      "metadata": {
        "id": "pHv2CGYnRkQ3"
      },
      "source": [
        ""
      ],
      "id": "pHv2CGYnRkQ3"
    },
    {
      "cell_type": "markdown",
      "metadata": {
        "id": "0a60b6b1"
      },
      "source": [
        "### C. Adjusting Datatypes  \n"
      ],
      "id": "0a60b6b1"
    },
    {
      "cell_type": "code",
      "execution_count": 118,
      "metadata": {
        "id": "f1d5641f"
      },
      "outputs": [],
      "source": [
        "# we have modified the data type of experience \n",
        "# now we want to adjut both the city column and last_new_job "
      ],
      "id": "f1d5641f"
    },
    {
      "cell_type": "code",
      "execution_count": 119,
      "metadata": {
        "id": "dd894144"
      },
      "outputs": [],
      "source": [
        "# First for last_new-job \n"
      ],
      "id": "dd894144"
    },
    {
      "cell_type": "code",
      "execution_count": 120,
      "metadata": {
        "id": "f4ca52c0"
      },
      "outputs": [],
      "source": [
        "# now removing the irrelevant data which is city in every row \n",
        "data.city=data['city'].str.replace('city_','').astype(int)\n",
        "data.head()\n",
        "\n",
        "data_imputed.city=data_imputed['city'].str.replace('city_','').astype(int)\n"
      ],
      "id": "f4ca52c0"
    },
    {
      "cell_type": "markdown",
      "metadata": {
        "id": "995ed657"
      },
      "source": [
        "## 4. EDA  \n"
      ],
      "id": "995ed657"
    },
    {
      "cell_type": "markdown",
      "metadata": {
        "id": "d2da8f90"
      },
      "source": [
        "### A. first let's see the distribution of our target variable \n"
      ],
      "id": "d2da8f90"
    },
    {
      "cell_type": "code",
      "execution_count": 121,
      "metadata": {
        "colab": {
          "base_uri": "https://localhost:8080/",
          "height": 286
        },
        "id": "a2d8b7e0",
        "outputId": "4bfdadc8-010b-44e9-c4cd-ba82d5b4088a"
      },
      "outputs": [
        {
          "output_type": "display_data",
          "data": {
            "image/png": "[encoded data removed]",
            "text/plain": [
              "<Figure size 432x288 with 1 Axes>"
            ]
          },
          "metadata": {
            "needs_background": "light"
          }
        }
      ],
      "source": [
        "plt.hist(data=data,x='target');\n",
        "plt.title(\"Target variable distribution\")\n",
        "plt.xticks([0,1]);"
      ],
      "id": "a2d8b7e0"
    },
    {
      "cell_type": "markdown",
      "metadata": {
        "id": "0a6a9086"
      },
      "source": [
        "from the above we can see that the number of people who are classified as zero\n",
        "are much greater than those who are classified as ones which means that our data is imbalanced and we need to deal with it "
      ],
      "id": "0a6a9086"
    },
    {
      "cell_type": "code",
      "execution_count": 122,
      "metadata": {
        "colab": {
          "base_uri": "https://localhost:8080/",
          "height": 341
        },
        "id": "6Jt6Zm9lXqcv",
        "outputId": "a0e57ebf-e33b-4e1d-a70e-335e5838d707"
      },
      "outputs": [
        {
          "output_type": "stream",
          "name": "stderr",
          "text": [
            "/usr/local/lib/python3.7/dist-packages/seaborn/_decorators.py:43: FutureWarning: Pass the following variables as keyword args: x, y. From version 0.12, the only valid positional argument will be `data`, and passing other arguments without an explicit keyword will result in an error or misinterpretation.\n",
            "  FutureWarning\n"
          ]
        },
        {
          "output_type": "display_data",
          "data": {
            "image/png": "[encoded data removed]",
            "text/plain": [
              "<Figure size 432x288 with 1 Axes>"
            ]
          },
          "metadata": {
            "needs_background": "light"
          }
        }
      ],
      "source": [
        "Education = data['education_level'].value_counts()  \n",
        "plt.figure(figsize=(6,4))\n",
        "sns.barplot(Education.index, Education.values, alpha=0.8)\n",
        "plt.ylabel('Number of Data', fontsize=12)\n",
        "plt.xlabel('education_level', fontsize=9)\n",
        "plt.show();"
      ],
      "id": "6Jt6Zm9lXqcv"
    },
    {
      "cell_type": "code",
      "execution_count": 123,
      "metadata": {
        "colab": {
          "base_uri": "https://localhost:8080/",
          "height": 764
        },
        "id": "7763ab56",
        "outputId": "77b2d532-5ee1-4b60-8dc4-47f639f70d3b"
      },
      "outputs": [
        {
          "output_type": "execute_result",
          "data": {
            "text/plain": [
              "Text(0.5, 1.0, 'Correlation between features')"
            ]
          },
          "metadata": {},
          "execution_count": 123
        },
        {
          "output_type": "display_data",
          "data": {
            "image/png": "[encoded data removed]",
            "text/plain": [
              "<Figure size 1080x720 with 2 Axes>"
            ]
          },
          "metadata": {}
        }
      ],
      "source": [
        "### B. let's now see the correlation matrix \n",
        "corrMatrix=data[[\"city\",\"city_development_index\",\"gender\",\"relevent_experience\",\"enrolled_university\",\"education_level\",\n",
        "                   \"major_discipline\",\"experience\",\"last_new_job\",\"training_hours\",\"target\"]].corr()\n",
        "\n",
        "sns.set(font_scale=1.10)\n",
        "plt.figure(figsize=(15, 10))\n",
        "\n",
        "sns.heatmap(corrMatrix,  linewidths=0.01,\n",
        "            square=True,annot=True,cmap='viridis',linecolor=\"white\")\n",
        "plt.title('Correlation between features')"
      ],
      "id": "7763ab56"
    },
    {
      "cell_type": "markdown",
      "metadata": {
        "id": "1602c56c"
      },
      "source": [
        "### C. Feature Engineering  \n",
        "\n",
        "---\n",
        "\n"
      ],
      "id": "1602c56c"
    },
    {
      "cell_type": "code",
      "execution_count": 124,
      "metadata": {
        "colab": {
          "base_uri": "https://localhost:8080/",
          "height": 293
        },
        "id": "8935fc23",
        "outputId": "0ad092d0-f23f-47b5-d63d-e364442f8f4d"
      },
      "outputs": [
        {
          "output_type": "stream",
          "name": "stderr",
          "text": [
            "/usr/local/lib/python3.7/dist-packages/pandas/core/frame.py:4913: SettingWithCopyWarning: \n",
            "A value is trying to be set on a copy of a slice from a DataFrame\n",
            "\n",
            "See the caveats in the documentation: https://pandas.pydata.org/pandas-docs/stable/user_guide/indexing.html#returning-a-view-versus-a-copy\n",
            "  errors=errors,\n"
          ]
        },
        {
          "output_type": "execute_result",
          "data": {
            "text/html": [
              "\n",
              "  <div id=\"df-ab7ec15a-d6bb-442c-aa17-35baf6bfb0be\">\n",
              "    <div class=\"colab-df-container\">\n",
              "      <div>\n",
              "<style scoped>\n",
              "    .dataframe tbody tr th:only-of-type {\n",
              "        vertical-align: middle;\n",
              "    }\n",
              "\n",
              "    .dataframe tbody tr th {\n",
              "        vertical-align: top;\n",
              "    }\n",
              "\n",
              "    .dataframe thead th {\n",
              "        text-align: right;\n",
              "    }\n",
              "</style>\n",
              "<table border=\"1\" class=\"dataframe\">\n",
              "  <thead>\n",
              "    <tr style=\"text-align: right;\">\n",
              "      <th></th>\n",
              "      <th>gender</th>\n",
              "      <th>enrolled_university</th>\n",
              "      <th>education_level</th>\n",
              "      <th>major_discipline</th>\n",
              "      <th>company_size</th>\n",
              "      <th>company_type</th>\n",
              "    </tr>\n",
              "  </thead>\n",
              "  <tbody>\n",
              "    <tr>\n",
              "      <th>0</th>\n",
              "      <td>Male</td>\n",
              "      <td>no_enrollment</td>\n",
              "      <td>Graduate</td>\n",
              "      <td>STEM</td>\n",
              "      <td>MISSING</td>\n",
              "      <td>MISSING</td>\n",
              "    </tr>\n",
              "    <tr>\n",
              "      <th>1</th>\n",
              "      <td>Male</td>\n",
              "      <td>no_enrollment</td>\n",
              "      <td>Graduate</td>\n",
              "      <td>STEM</td>\n",
              "      <td>50-99</td>\n",
              "      <td>Pvt Ltd</td>\n",
              "    </tr>\n",
              "    <tr>\n",
              "      <th>2</th>\n",
              "      <td>MISSING</td>\n",
              "      <td>Full time course</td>\n",
              "      <td>Graduate</td>\n",
              "      <td>STEM</td>\n",
              "      <td>MISSING</td>\n",
              "      <td>MISSING</td>\n",
              "    </tr>\n",
              "    <tr>\n",
              "      <th>3</th>\n",
              "      <td>MISSING</td>\n",
              "      <td>MISSING</td>\n",
              "      <td>Graduate</td>\n",
              "      <td>Business Degree</td>\n",
              "      <td>MISSING</td>\n",
              "      <td>Pvt Ltd</td>\n",
              "    </tr>\n",
              "    <tr>\n",
              "      <th>4</th>\n",
              "      <td>Male</td>\n",
              "      <td>no_enrollment</td>\n",
              "      <td>Masters</td>\n",
              "      <td>STEM</td>\n",
              "      <td>50-99</td>\n",
              "      <td>Funded Startup</td>\n",
              "    </tr>\n",
              "  </tbody>\n",
              "</table>\n",
              "</div>\n",
              "      <button class=\"colab-df-convert\" onclick=\"convertToInteractive('df-ab7ec15a-d6bb-442c-aa17-35baf6bfb0be')\"\n",
              "              title=\"Convert this dataframe to an interactive table.\"\n",
              "              style=\"display:none;\">\n",
              "        \n",
              "  <svg xmlns=\"http://www.w3.org/2000/svg\" height=\"24px\"viewBox=\"0 0 24 24\"\n",
              "       width=\"24px\">\n",
              "    <path d=\"M0 0h24v24H0V0z\" fill=\"none\"/>\n",
              "    <path d=\"M18.56 5.44l.94 2.06.94-2.06 2.06-.94-2.06-.94-.94-2.06-.94 2.06-2.06.94zm-11 1L8.5 8.5l.94-2.06 2.06-.94-2.06-.94L8.5 2.5l-.94 2.06-2.06.94zm10 10l.94 2.06.94-2.06 2.06-.94-2.06-.94-.94-2.06-.94 2.06-2.06.94z\"/><path d=\"M17.41 7.96l-1.37-1.37c-.4-.4-.92-.59-1.43-.59-.52 0-1.04.2-1.43.59L10.3 9.45l-7.72 7.72c-.78.78-.78 2.05 0 2.83L4 21.41c.39.39.9.59 1.41.59.51 0 1.02-.2 1.41-.59l7.78-7.78 2.81-2.81c.8-.78.8-2.07 0-2.86zM5.41 20L4 18.59l7.72-7.72 1.47 1.35L5.41 20z\"/>\n",
              "  </svg>\n",
              "      </button>\n",
              "      \n",
              "  <style>\n",
              "    .colab-df-container {\n",
              "      display:flex;\n",
              "      flex-wrap:wrap;\n",
              "      gap: 12px;\n",
              "    }\n",
              "\n",
              "    .colab-df-convert {\n",
              "      background-color: #E8F0FE;\n",
              "      border: none;\n",
              "      border-radius: 50%;\n",
              "      cursor: pointer;\n",
              "      display: none;\n",
              "      fill: #1967D2;\n",
              "      height: 32px;\n",
              "      padding: 0 0 0 0;\n",
              "      width: 32px;\n",
              "    }\n",
              "\n",
              "    .colab-df-convert:hover {\n",
              "      background-color: #E2EBFA;\n",
              "      box-shadow: 0px 1px 2px rgba(60, 64, 67, 0.3), 0px 1px 3px 1px rgba(60, 64, 67, 0.15);\n",
              "      fill: #174EA6;\n",
              "    }\n",
              "\n",
              "    [theme=dark] .colab-df-convert {\n",
              "      background-color: #3B4455;\n",
              "      fill: #D2E3FC;\n",
              "    }\n",
              "\n",
              "    [theme=dark] .colab-df-convert:hover {\n",
              "      background-color: #434B5C;\n",
              "      box-shadow: 0px 1px 3px 1px rgba(0, 0, 0, 0.15);\n",
              "      filter: drop-shadow(0px 1px 2px rgba(0, 0, 0, 0.3));\n",
              "      fill: #FFFFFF;\n",
              "    }\n",
              "  </style>\n",
              "\n",
              "      <script>\n",
              "        const buttonEl =\n",
              "          document.querySelector('#df-ab7ec15a-d6bb-442c-aa17-35baf6bfb0be button.colab-df-convert');\n",
              "        buttonEl.style.display =\n",
              "          google.colab.kernel.accessAllowed ? 'block' : 'none';\n",
              "\n",
              "        async function convertToInteractive(key) {\n",
              "          const element = document.querySelector('#df-ab7ec15a-d6bb-442c-aa17-35baf6bfb0be');\n",
              "          const dataTable =\n",
              "            await google.colab.kernel.invokeFunction('convertToInteractive',\n",
              "                                                     [key], {});\n",
              "          if (!dataTable) return;\n",
              "\n",
              "          const docLinkHtml = 'Like what you see? Visit the ' +\n",
              "            '<a target=\"_blank\" href=https://colab.research.google.com/notebooks/data_table.ipynb>data table notebook</a>'\n",
              "            + ' to learn more about interactive tables.';\n",
              "          element.innerHTML = '';\n",
              "          dataTable['output_type'] = 'display_data';\n",
              "          await google.colab.output.renderOutput(dataTable, element);\n",
              "          const docLink = document.createElement('div');\n",
              "          docLink.innerHTML = docLinkHtml;\n",
              "          element.appendChild(docLink);\n",
              "        }\n",
              "      </script>\n",
              "    </div>\n",
              "  </div>\n",
              "  "
            ],
            "text/plain": [
              "    gender enrolled_university  ... company_size    company_type\n",
              "0     Male       no_enrollment  ...      MISSING         MISSING\n",
              "1     Male       no_enrollment  ...        50-99         Pvt Ltd\n",
              "2  MISSING    Full time course  ...      MISSING         MISSING\n",
              "3  MISSING             MISSING  ...      MISSING         Pvt Ltd\n",
              "4     Male       no_enrollment  ...        50-99  Funded Startup\n",
              "\n",
              "[5 rows x 6 columns]"
            ]
          },
          "metadata": {},
          "execution_count": 124
        }
      ],
      "source": [
        "qualitative = data.select_dtypes(exclude= ['int64', 'float64'])\n",
        "qualitative.drop(\"relevent_experience\",axis=1,inplace=True)\n",
        "qualitative.head()"
      ],
      "id": "8935fc23"
    },
    {
      "cell_type": "code",
      "execution_count": 125,
      "metadata": {
        "id": "_KlfaaG8GX2c"
      },
      "outputs": [],
      "source": [
        "# encoding relevent experience\n",
        "data[\"relevent_experience\"] = np.where(data[\"relevent_experience\"].str.contains(\"Has \"), 1.0, 0.0)\n",
        "data_imputed[\"relevent_experience\"] = np.where(data_imputed[\"relevent_experience\"].str.contains(\"Has \"), 1.0, 0.0)\n"
      ],
      "id": "_KlfaaG8GX2c"
    },
    {
      "cell_type": "code",
      "execution_count": 126,
      "metadata": {
        "id": "9ea3b853"
      },
      "outputs": [],
      "source": [
        "y_train=data['target']\n",
        "x_train = data.loc[:, data.columns != 'target']\n",
        "ohe = OneHotEncoder(handle_unknown='ignore')\n",
        "preprocessor = ColumnTransformer(\n",
        "    transformers=[\n",
        "        ('cat', ohe, qualitative.columns)],\n",
        "        remainder=\"passthrough\")\n",
        "X_train_encoded = preprocessor.fit_transform(x_train)\n"
      ],
      "id": "9ea3b853"
    },
    {
      "cell_type": "code",
      "execution_count": 127,
      "metadata": {
        "colab": {
          "base_uri": "https://localhost:8080/"
        },
        "id": "xYcZMkMCEvbZ",
        "outputId": "3a915a05-d0ca-4463-8682-a268a1e06686"
      },
      "outputs": [
        {
          "output_type": "execute_result",
          "data": {
            "text/plain": [
              "(19158, 44)"
            ]
          },
          "metadata": {},
          "execution_count": 127
        }
      ],
      "source": [
        "X_train_encoded.shape"
      ],
      "id": "xYcZMkMCEvbZ"
    },
    {
      "cell_type": "code",
      "execution_count": 128,
      "metadata": {
        "id": "Z-JDzkYZZbOS"
      },
      "outputs": [],
      "source": [
        "# for the imputed data we will not impute the value of major_discpline\n",
        "# as we cannot assume ordinal numbers forits values\n",
        "\n",
        "ohe = OneHotEncoder()\n",
        "oe_results = ohe.fit_transform(data_imputed[[\"major_discipline\"]])\n",
        "pd.DataFrame(oe_results.toarray(), columns=ohe.categories_).head()\n",
        "data_imputed = data_imputed.join(pd.DataFrame(oe_results.toarray(), columns=ohe.categories_))\n",
        "\n",
        "oe_company = ohe.fit_transform(data_imputed[[\"company_type\"]])\n",
        "pd.DataFrame(oe_company.toarray(), columns=ohe.categories_).head()\n",
        "data_imputed = data_imputed.join(pd.DataFrame(oe_company.toarray(), columns=ohe.categories_))\n",
        "\n",
        "data_imputed.drop(['target','major_discipline','company_type'], axis=1, inplace=True)\n"
      ],
      "id": "Z-JDzkYZZbOS"
    },
    {
      "cell_type": "code",
      "execution_count": 129,
      "metadata": {
        "id": "3zKAw3JVlVFS"
      },
      "outputs": [],
      "source": [
        "#x imputed \n",
        "X_trainimputed, X_testimputed, y_trainimputed, y_testimputed = train_test_split(data_imputed, y_train, test_size=0.1, random_state=42)"
      ],
      "id": "3zKAw3JVlVFS"
    },
    {
      "cell_type": "code",
      "execution_count": 130,
      "metadata": {
        "id": "MYd7mXl8ywAN"
      },
      "outputs": [],
      "source": [
        "#x encoded \n",
        "X_train, X_test, y_train, y_test = train_test_split(X_train_encoded, y_train, test_size=0.1, random_state=42)"
      ],
      "id": "MYd7mXl8ywAN"
    },
    {
      "cell_type": "code",
      "execution_count": 131,
      "metadata": {
        "colab": {
          "base_uri": "https://localhost:8080/"
        },
        "id": "eyYcdWiSZ2Lp",
        "outputId": "cc763dac-7336-4b33-a291-b7b4f9ed0bf2"
      },
      "outputs": [
        {
          "output_type": "stream",
          "name": "stderr",
          "text": [
            "/usr/local/lib/python3.7/dist-packages/sklearn/utils/validation.py:1692: FutureWarning: Feature names only support names that are all strings. Got feature names with dtypes: ['str', 'tuple']. An error will be raised in 1.2.\n",
            "  FutureWarning,\n",
            "/usr/local/lib/python3.7/dist-packages/sklearn/utils/validation.py:1692: FutureWarning: Feature names only support names that are all strings. Got feature names with dtypes: ['str', 'tuple']. An error will be raised in 1.2.\n",
            "  FutureWarning,\n",
            "/usr/local/lib/python3.7/dist-packages/sklearn/utils/validation.py:1692: FutureWarning: Feature names only support names that are all strings. Got feature names with dtypes: ['str', 'tuple']. An error will be raised in 1.2.\n",
            "  FutureWarning,\n"
          ]
        },
        {
          "output_type": "stream",
          "name": "stdout",
          "text": [
            "the shape of the imputed data using the oridunal encoding instead of OHE is (17242, 25)\n"
          ]
        }
      ],
      "source": [
        "imputer = KNNImputer(n_neighbors=7, weights=\"uniform\");\n",
        "X_trainimputed=imputer.fit_transform(X_trainimputed);\n",
        "X_testimputed= imputer.transform(X_testimputed)\n",
        "print(\"the shape of the imputed data using the oridunal encoding instead of OHE is\",X_trainimputed.shape)"
      ],
      "id": "eyYcdWiSZ2Lp"
    },
    {
      "cell_type": "markdown",
      "metadata": {
        "id": "RfO6E2khwld6"
      },
      "source": [
        ""
      ],
      "id": "RfO6E2khwld6"
    },
    {
      "cell_type": "code",
      "execution_count": 132,
      "metadata": {
        "colab": {
          "base_uri": "https://localhost:8080/"
        },
        "id": "9DiOWjm4yzIj",
        "outputId": "a47c31ef-9367-4c88-c089-201738eaa46e"
      },
      "outputs": [
        {
          "output_type": "stream",
          "name": "stdout",
          "text": [
            "[(0.0, 12923), (1.0, 12923)]\n"
          ]
        }
      ],
      "source": [
        "# SMOTE Oversampling For Imbalanced Dataset\n",
        "smote = SMOTE(random_state=42)\n",
        "\n",
        "X_train, y_train= smote.fit_resample(X_train,y_train )\n",
        "X_trainimputed, y_trainimputed= smote.fit_resample(X_trainimputed,y_trainimputed )\n",
        "\n",
        "# Check the number of records after over sampling\n",
        "print(sorted(Counter(y_trainimputed).items()))"
      ],
      "id": "9DiOWjm4yzIj"
    },
    {
      "cell_type": "markdown",
      "metadata": {
        "id": "lX_4t3yiE8P1"
      },
      "source": [
        "##4. SVM "
      ],
      "id": "lX_4t3yiE8P1"
    },
    {
      "cell_type": "code",
      "execution_count": null,
      "metadata": {
        "id": "pfNfvqdCImqU"
      },
      "outputs": [],
      "source": [
        "#x encoded\n",
        "param_tuning = {'C': [8,9,10],\n",
        "                'gamma': [0.01, 0.001],\n",
        "              'kernel': ['rbf']}\n",
        "\n",
        "model_svm = GridSearchCV(SVC(), param_tuning,cv=10,scoring='accuracy') \n",
        "model_svm.fit(X_train, y_train)\n",
        "\n",
        "#x encoded\n",
        "print(model_svm.best_score_)\n",
        "print(model_svm.best_params_)"
      ],
      "id": "pfNfvqdCImqU"
    },
    {
      "cell_type": "code",
      "source": [
        "svm = SVC(C=9,gamma=0.01, kernel='rbf')\n",
        "svm.fit(X_train,y_train)\n",
        "y_pred=svm.predict(X_test)\n",
        "print('confusion matrix')\n",
        "print(confusion_matrix(y_test, y_pred))\n",
        "print('recall score')\n",
        "print(recall_score(y_test, y_pred))\n",
        "print('f1 score')\n",
        "print(f1_score(y_test, y_pred))\n",
        "print('precision accuracy ')\n",
        "print(precision_score(y_test, y_pred))\n",
        "print('Accuracy Score:')\n",
        "print(metrics.accuracy_score(y_test,y_pred))"
      ],
      "metadata": {
        "colab": {
          "base_uri": "https://localhost:8080/"
        },
        "id": "PTprzFwi31ay",
        "outputId": "dba1857b-3b45-4bfc-f5c2-098f4a4ef40f"
      },
      "id": "PTprzFwi31ay",
      "execution_count": null,
      "outputs": [
        {
          "output_type": "stream",
          "name": "stdout",
          "text": [
            "confusion matrix\n",
            "[[1314  126]\n",
            " [ 468  969]]\n",
            "recall score\n",
            "0.6743215031315241\n",
            "f1 score\n",
            "0.7654028436018957\n",
            "precision accuracy \n",
            "0.8849315068493151\n",
            "Accuracy Score:\n",
            "0.7935349322210636\n"
          ]
        }
      ]
    },
    {
      "cell_type": "code",
      "execution_count": null,
      "metadata": {
        "id": "74GFz7s2-Sc1"
      },
      "outputs": [],
      "source": [
        "#x imputed\n",
        "from sklearn.model_selection import GridSearchCV\n",
        "param_tuningimputed = {'C': [9,10],\n",
        "              'gamma': [0.01, 0.001],\n",
        "              'kernel': ['rbf']}\n",
        "\n",
        "model_svmimputed = GridSearchCV(SVC(), param_tuningimputed,cv=10,scoring='accuracy') \n",
        "model_svmimputed.fit(X_trainimputed, y_trainimputed)\n",
        "print(model_svmimputed.best_score_)\n",
        "print(model_svmimputed.best_params_)"
      ],
      "id": "74GFz7s2-Sc1"
    },
    {
      "cell_type": "code",
      "source": [
        "#x imputed\n",
        "svm = SVC(C=9,gamma=0.01, kernel='rbf')\n",
        "svm.fit(X_trainimputed,y_trainimputed)\n",
        "y_pred=svm.predict(X_testimputed)\n",
        "print('confusion matrix')\n",
        "confusion_matrix(y_testimputed, y_pred)\n",
        "print('recall score')\n",
        "print(recall_score(y_testimputed, y_pred))\n",
        "print('f1 score')\n",
        "print(f1_score(y_testimputed, y_pred))\n",
        "print('precision accuracy ')\n",
        "print(precision_score(y_testimputed, y_pred))\n",
        "print('Accuracy Score:')\n",
        "print(metrics.accuracy_score(y_test,y_pred))"
      ],
      "metadata": {
        "colab": {
          "base_uri": "https://localhost:8080/"
        },
        "id": "px_zBM_F49U9",
        "outputId": "99d9518a-5f80-47ac-f9ab-d46b846e0e81"
      },
      "id": "px_zBM_F49U9",
      "execution_count": null,
      "outputs": [
        {
          "output_type": "stream",
          "name": "stdout",
          "text": [
            "confusion matrix\n",
            "recall score\n",
            "0.6743215031315241\n",
            "f1 score\n",
            "0.7657052548399843\n",
            "precision accuracy \n",
            "0.8857404021937842\n",
            "Accuracy Score:\n",
            "0.7938825165102538\n"
          ]
        }
      ]
    },
    {
      "cell_type": "markdown",
      "metadata": {
        "id": "lN4Mn8O0jLHv"
      },
      "source": [
        "## 5. Decision Tree classifiers  "
      ],
      "id": "lN4Mn8O0jLHv"
    },
    {
      "cell_type": "code",
      "execution_count": null,
      "metadata": {
        "id": "Fg-_giu8Ja0s"
      },
      "outputs": [],
      "source": [
        ""
      ],
      "id": "Fg-_giu8Ja0s"
    },
    {
      "cell_type": "code",
      "execution_count": null,
      "metadata": {
        "colab": {
          "base_uri": "https://localhost:8080/"
        },
        "id": "lHezXkd_jNTr",
        "outputId": "95da82c7-d2ff-46c9-88de-f8ae7659466b"
      },
      "outputs": [
        {
          "name": "stdout",
          "output_type": "stream",
          "text": [
            "best results 0.8389028394823257\n",
            "Best result {'criterion': 'gini', 'max_depth': 8, 'min_samples_split': 90}\n",
            "Accuracy Score:\n",
            "0.8442822384428224\n"
          ]
        }
      ],
      "source": [
        "clf = DecisionTreeClassifier()\n",
        "hp = {\"criterion\":['gini','entropy'], 'max_depth':np.arange(3,9),'min_samples_split':np.arange(10,100,10) }\n",
        "\n",
        "grid = GridSearchCV(clf, param_grid  = hp  , cv = 5)\n",
        "grid.fit(X_train,y_train)\n",
        "print(\"best results\",grid.best_score_)\n",
        "print(f\"Best result {grid.best_params_}\")\n",
        "\n",
        "y_pred= grid.predict(X_test)\n",
        "print('Accuracy Score:')\n",
        "print(metrics.accuracy_score(y_test,y_pred))"
      ],
      "id": "lHezXkd_jNTr"
    },
    {
      "cell_type": "code",
      "execution_count": null,
      "metadata": {
        "colab": {
          "base_uri": "https://localhost:8080/"
        },
        "id": "4RiMoD1T5l6z",
        "outputId": "32dd743b-00f5-4e3e-c6fa-ffa6bd926831"
      },
      "outputs": [
        {
          "data": {
            "text/plain": [
              "array([[1215,  225],\n",
              "       [ 223, 1214]])"
            ]
          },
          "execution_count": 106,
          "metadata": {},
          "output_type": "execute_result"
        }
      ],
      "source": [
        "#Confusion Matrix \n",
        "confusion_matrix(y_test, y_pred)"
      ],
      "id": "4RiMoD1T5l6z"
    },
    {
      "cell_type": "code",
      "execution_count": null,
      "metadata": {
        "colab": {
          "base_uri": "https://localhost:8080/"
        },
        "id": "N6_zUJNy5l0C",
        "outputId": "4c9c5120-9617-4b28-b567-6c0a263f1955"
      },
      "outputs": [
        {
          "data": {
            "text/plain": [
              "0.8448155880306193"
            ]
          },
          "execution_count": 107,
          "metadata": {},
          "output_type": "execute_result"
        }
      ],
      "source": [
        "#Recall Score \n",
        "recall_score(y_test, y_pred)"
      ],
      "id": "N6_zUJNy5l0C"
    },
    {
      "cell_type": "code",
      "execution_count": null,
      "metadata": {
        "colab": {
          "base_uri": "https://localhost:8080/"
        },
        "id": "Zm_DHbxM5loY",
        "outputId": "90ad1c6f-2db8-4780-9304-3eb974a8c68b"
      },
      "outputs": [
        {
          "data": {
            "text/plain": [
              "0.8442280945757997"
            ]
          },
          "execution_count": 108,
          "metadata": {},
          "output_type": "execute_result"
        }
      ],
      "source": [
        "#F1 Score \n",
        "f1_score(y_test, y_pred)"
      ],
      "id": "Zm_DHbxM5loY"
    },
    {
      "cell_type": "code",
      "execution_count": null,
      "metadata": {
        "colab": {
          "base_uri": "https://localhost:8080/"
        },
        "id": "Djtv5RfQ_oAy",
        "outputId": "c04650b1-f290-45bb-88dc-9f2cf1394f32"
      },
      "outputs": [
        {
          "data": {
            "text/plain": [
              "0.8436414176511466"
            ]
          },
          "execution_count": 109,
          "metadata": {},
          "output_type": "execute_result"
        }
      ],
      "source": [
        "#Accurazy \n",
        "precision_score(y_test, y_pred)"
      ],
      "id": "Djtv5RfQ_oAy"
    },
    {
      "cell_type": "code",
      "execution_count": null,
      "metadata": {
        "colab": {
          "base_uri": "https://localhost:8080/"
        },
        "id": "_ZyDHa_fjTwT",
        "outputId": "dcad344e-23f8-4e12-8a72-ac53db45874e"
      },
      "outputs": [
        {
          "name": "stdout",
          "output_type": "stream",
          "text": [
            "best results 0.83894147189492\n",
            "Best result {'criterion': 'gini', 'max_depth': 8, 'min_samples_split': 92}\n",
            "Accuracy Score:\n",
            "0.8442822384428224\n"
          ]
        }
      ],
      "source": [
        "clf = DecisionTreeClassifier()\n",
        "hp = {\"criterion\":['gini'], 'max_depth':[8],'min_samples_split':np.arange(80,99,2) }\n",
        "\n",
        "grid2 = GridSearchCV(clf, param_grid  = hp  , cv = 5)\n",
        "grid2.fit(X_train,y_train)\n",
        "print(\"best results\",grid2.best_score_)\n",
        "print(f\"Best result {grid2.best_params_}\")\n",
        "\n",
        "y_pred= grid2.predict(X_test)\n",
        "print('Accuracy Score:')\n",
        "print(metrics.accuracy_score(y_test,y_pred))"
      ],
      "id": "_ZyDHa_fjTwT"
    },
    {
      "cell_type": "code",
      "execution_count": null,
      "metadata": {
        "colab": {
          "base_uri": "https://localhost:8080/"
        },
        "id": "Qa-a3VHD5nVu",
        "outputId": "cde61276-7a79-434c-eac0-7c3360b6ee35"
      },
      "outputs": [
        {
          "data": {
            "text/plain": [
              "array([[1215,  225],\n",
              "       [ 223, 1214]])"
            ]
          },
          "execution_count": 122,
          "metadata": {},
          "output_type": "execute_result"
        }
      ],
      "source": [
        "#Confusion Matrix \n",
        "confusion_matrix(y_test, y_pred)"
      ],
      "id": "Qa-a3VHD5nVu"
    },
    {
      "cell_type": "code",
      "execution_count": null,
      "metadata": {
        "colab": {
          "base_uri": "https://localhost:8080/"
        },
        "id": "VlRn8i5N5nPb",
        "outputId": "3d512cff-1be4-4228-d6d9-ee44e5d2a042"
      },
      "outputs": [
        {
          "data": {
            "text/plain": [
              "0.8448155880306193"
            ]
          },
          "execution_count": 123,
          "metadata": {},
          "output_type": "execute_result"
        }
      ],
      "source": [
        "#Recall Score \n",
        "recall_score(y_test, y_pred)"
      ],
      "id": "VlRn8i5N5nPb"
    },
    {
      "cell_type": "code",
      "execution_count": null,
      "metadata": {
        "colab": {
          "base_uri": "https://localhost:8080/"
        },
        "id": "PjsVLchh5nIr",
        "outputId": "232aad4d-b326-4972-ea1b-133ebd7b5946"
      },
      "outputs": [
        {
          "data": {
            "text/plain": [
              "0.8442280945757997"
            ]
          },
          "execution_count": 124,
          "metadata": {},
          "output_type": "execute_result"
        }
      ],
      "source": [
        "#F1 Score \n",
        "f1_score(y_test, y_pred)"
      ],
      "id": "PjsVLchh5nIr"
    },
    {
      "cell_type": "code",
      "execution_count": null,
      "metadata": {
        "colab": {
          "base_uri": "https://localhost:8080/"
        },
        "id": "-BjL68gV_f63",
        "outputId": "3c318e2c-4c29-4408-e049-47dce9d9174e"
      },
      "outputs": [
        {
          "data": {
            "text/plain": [
              "0.8436414176511466"
            ]
          },
          "execution_count": 125,
          "metadata": {},
          "output_type": "execute_result"
        }
      ],
      "source": [
        "#Accurazy \n",
        "precision_score(y_test, y_pred)"
      ],
      "id": "-BjL68gV_f63"
    },
    {
      "cell_type": "markdown",
      "metadata": {
        "id": "6xBFloe5UK-_"
      },
      "source": [
        "now let's try the data which was cleaned via knn imputer"
      ],
      "id": "6xBFloe5UK-_"
    },
    {
      "cell_type": "code",
      "execution_count": null,
      "metadata": {
        "id": "yFz3P07fUKZN"
      },
      "outputs": [],
      "source": [
        "clf = DecisionTreeClassifier()\n",
        "hp = {\"criterion\":['gini','entropy'], 'max_depth':np.arange(3,9),'min_samples_split':np.arange(10,100,10) }\n",
        "\n",
        "grid = GridSearchCV(clf, param_grid  = hp  , cv = 5)\n",
        "grid.fit(X_trainimputed,y_trainimputed)\n",
        "print(\"best results\",grid.best_score_)\n",
        "print(f\"Best result {grid.best_params_}\")\n",
        "\n",
        "y_pred= grid.predict(X_testimputed)\n",
        "print('Accuracy Score:')\n",
        "print(metrics.accuracy_score(y_testimputed,y_pred))\n",
        "\n",
        "print('confusion matrix')\n",
        "confusion_matrix(y_test, y_pred)\n",
        "print('recall score')\n",
        "recall_score(y_test, y_pred)\n",
        "print('f1 score')\n",
        "f1_score(y_test, y_pred)\n",
        "print('precision accuracy ')\n",
        "precision_score(y_test, y_pred)"
      ],
      "id": "yFz3P07fUKZN"
    },
    {
      "cell_type": "markdown",
      "metadata": {
        "id": "4w216MbYjqtH"
      },
      "source": [
        "##  Random Forest Tree"
      ],
      "id": "4w216MbYjqtH"
    },
    {
      "cell_type": "code",
      "execution_count": null,
      "metadata": {
        "colab": {
          "background_save": true
        },
        "id": "R5f6OJBrjYN5",
        "outputId": "f0e6bb7a-2e5f-4972-c335-892e719e1057"
      },
      "outputs": [
        {
          "name": "stdout",
          "output_type": "stream",
          "text": [
            "best results 0.8587985319683213\n",
            "Best result {'criterion': 'gini', 'max_depth': 14, 'min_samples_split': 5}\n",
            "Accuracy Score:\n",
            "0.8602711157455682\n"
          ]
        }
      ],
      "source": [
        "RF = RandomForestClassifier()\n",
        "hp = {\"criterion\":['entropy','gini'], 'max_depth':np.arange(2,15),'min_samples_split':np.arange(5,50,5) }\n",
        "\n",
        "grid_RF = GridSearchCV(RF, param_grid  = hp  , cv = 5)\n",
        "grid_RF.fit(X_train,y_train)\n",
        "\n",
        "print(\"best results\",grid_RF.best_score_)\n",
        "print(f\"Best result {grid_RF.best_params_}\")\n",
        "\n",
        "y_pred= grid_RF.predict(X_test)\n",
        "print('Accuracy Score:')\n",
        "print(metrics.accuracy_score(y_test,y_pred))\n"
      ],
      "id": "R5f6OJBrjYN5"
    },
    {
      "cell_type": "code",
      "execution_count": null,
      "metadata": {
        "id": "UrLQz4rE7HJm",
        "colab": {
          "base_uri": "https://localhost:8080/"
        },
        "outputId": "0dfb33a9-a69d-4c69-de02-8806b215e329"
      },
      "outputs": [
        {
          "output_type": "stream",
          "name": "stdout",
          "text": [
            "confusion matrix\n",
            "recall score\n",
            "f1 score\n",
            "precision accuracy \n"
          ]
        },
        {
          "output_type": "execute_result",
          "data": {
            "text/plain": [
              "0.860125260960334"
            ]
          },
          "metadata": {},
          "execution_count": 127
        }
      ],
      "source": [
        "#Confusion Matrix of the Smoted Model\n",
        "print('confusion matrix')\n",
        "confusion_matrix(y_test, y_pred)\n",
        "print('recall score')\n",
        "recall_score(y_test, y_pred)\n",
        "print('f1 score')\n",
        "f1_score(y_test, y_pred)\n",
        "print('precision accuracy ')\n",
        "precision_score(y_test, y_pred)"
      ],
      "id": "UrLQz4rE7HJm"
    },
    {
      "cell_type": "code",
      "execution_count": null,
      "metadata": {
        "id": "rVwNLSTkjuVj",
        "colab": {
          "base_uri": "https://localhost:8080/"
        },
        "outputId": "1e0649a9-ea7c-4a0d-b982-e6a41c832942"
      },
      "outputs": [
        {
          "output_type": "stream",
          "name": "stdout",
          "text": [
            "best results 0.8576395595904964\n",
            "Best result {'criterion': 'gini', 'max_depth': 14, 'min_samples_split': 6}\n",
            "Accuracy Score:\n",
            "0.8581856100104275\n",
            "confusion matrix\n",
            "recall score\n",
            "f1 score\n",
            "precision accuracy \n"
          ]
        },
        {
          "output_type": "execute_result",
          "data": {
            "text/plain": [
              "0.8600419874037789"
            ]
          },
          "metadata": {},
          "execution_count": 129
        }
      ],
      "source": [
        "RF = RandomForestClassifier()\n",
        "hp = {\"criterion\":['gini'], 'max_depth':[14],'min_samples_split':np.arange(3,7) }\n",
        "\n",
        "grid_RF2 = GridSearchCV(RF, param_grid  = hp  , cv = 5)\n",
        "grid_RF2.fit(X_train,y_train)\n",
        "\n",
        "print(\"best results\",grid_RF2.best_score_)\n",
        "print(f\"Best result {grid_RF2.best_params_}\")\n",
        "\n",
        "\n",
        "\n",
        "y_pred= grid_RF2.predict(X_test)\n",
        "print('Accuracy Score:')\n",
        "print(metrics.accuracy_score(y_test,y_pred))\n",
        "print('confusion matrix')\n",
        "confusion_matrix(y_test, y_pred)\n",
        "print('recall score')\n",
        "recall_score(y_test, y_pred)\n",
        "print('f1 score')\n",
        "f1_score(y_test, y_pred)\n",
        "print('precision accuracy ')\n",
        "precision_score(y_test, y_pred)"
      ],
      "id": "rVwNLSTkjuVj"
    },
    {
      "cell_type": "markdown",
      "metadata": {
        "id": "5ZAJ6bVeuJH6"
      },
      "source": [
        "##6. Logistic Regression\n"
      ],
      "id": "5ZAJ6bVeuJH6"
    },
    {
      "cell_type": "code",
      "execution_count": 133,
      "metadata": {
        "id": "rwHFZvZbuSzx",
        "colab": {
          "base_uri": "https://localhost:8080/"
        },
        "outputId": "04b8c326-0b93-4db8-91f1-0e7884b36cf8"
      },
      "outputs": [
        {
          "output_type": "stream",
          "name": "stdout",
          "text": [
            "Average Score for Logistic Regreesion = 74.49%\n"
          ]
        }
      ],
      "source": [
        "#cross validation Logistic Regression\n",
        "LR = LogisticRegression(penalty='l2',solver = 'liblinear')\n",
        "scores = cross_val_score(LR, X_train, y_train, scoring='accuracy', cv=5, n_jobs=-1)\n",
        "print('Average Score for Logistic Regreesion = {}%'.format(np.round(scores.mean()*100,2)))"
      ],
      "id": "rwHFZvZbuSzx"
    },
    {
      "cell_type": "code",
      "execution_count": 137,
      "metadata": {
        "id": "jo2NV6WFul60",
        "colab": {
          "base_uri": "https://localhost:8080/"
        },
        "outputId": "4e2fd25f-f6ba-467b-98cc-3300e1283277"
      },
      "outputs": [
        {
          "output_type": "stream",
          "name": "stdout",
          "text": [
            "{'C': 2.0, 'fit_intercept': False, 'penalty': 'l2'}\n",
            "Best Acc =  74.5067279156016\n",
            "Accuracy of Logistic Regression = 73.02%\n",
            "Accuracy Score:\n",
            "0.7301670146137788\n"
          ]
        }
      ],
      "source": [
        "#GridSearch For Logistic Regression\n",
        "param_grid = {'penalty': ['l1', 'l2'],\n",
        "             'C': np.arange(0.5, 3, 0.5).tolist(),\n",
        "             'fit_intercept':[True, False]}\n",
        "\n",
        "log_model = LogisticRegression(solver = 'liblinear', max_iter=150)\n",
        "grid = GridSearchCV(log_model, param_grid, cv=5, scoring='accuracy', n_jobs=-1)\n",
        "grid_search=grid.fit(X_train, y_train)\n",
        "\n",
        "print(grid_search.best_params_)\n",
        "print('Best Acc = ', grid_search.best_score_*100)\n",
        "\n",
        "y_pred = grid_search.best_estimator_.predict(X_test) \n",
        "acc = accuracy_score(y_pred, y_test)\n",
        "print('Accuracy of Logistic Regression = {}%'.format(np.round(acc*100,2)))\n",
        "\n",
        "print('Accuracy Score:')\n",
        "print(metrics.accuracy_score(y_test,y_pred))\n"
      ],
      "id": "jo2NV6WFul60"
    },
    {
      "cell_type": "code",
      "execution_count": null,
      "metadata": {
        "id": "aAkWryXtWpal",
        "colab": {
          "base_uri": "https://localhost:8080/"
        },
        "outputId": "50a26fe5-126c-4c4c-f22f-e4292fb30215"
      },
      "outputs": [
        {
          "output_type": "stream",
          "name": "stdout",
          "text": [
            "{'C': 2.0, 'fit_intercept': True, 'penalty': 'l2'}\n",
            "Best Acc =  73.13502028201661\n",
            "Accuracy of Logistic Regression = 73.31%\n",
            "Accuracy Score:\n",
            "0.7330552659019812\n",
            "confusion matrix\n",
            "recall score\n",
            "f1 score\n",
            "precision accuracy \n"
          ]
        },
        {
          "output_type": "execute_result",
          "data": {
            "text/plain": [
              "0.728952772073922"
            ]
          },
          "metadata": {},
          "execution_count": 132
        }
      ],
      "source": [
        "#GridSearch For Logistic Regression\n",
        "param_grid = {'penalty': ['l1', 'l2'],\n",
        "             'C': np.arange(0.5, 3, 0.5).tolist(),\n",
        "             'fit_intercept':[True, False]}\n",
        "\n",
        "log_model = LogisticRegression(solver = 'liblinear', max_iter=150)\n",
        "grid = GridSearchCV(log_model, param_grid, cv=5, scoring='accuracy', n_jobs=-1)\n",
        "grid_search=grid.fit(X_trainimputed, y_trainimputed)\n",
        "\n",
        "print(grid_search.best_params_)\n",
        "print('Best Acc = ', grid_search.best_score_*100)\n",
        "\n",
        "y_pred = grid_search.best_estimator_.predict(X_testimputed) \n",
        "acc = accuracy_score(y_pred, y_testimputed)\n",
        "print('Accuracy of Logistic Regression = {}%'.format(np.round(acc*100,2)))\n",
        "\n",
        "print('Accuracy Score:')\n",
        "print(metrics.accuracy_score(y_test,y_pred))\n",
        "print('confusion matrix')\n",
        "confusion_matrix(y_test, y_pred)\n",
        "print('recall score')\n",
        "recall_score(y_test, y_pred)\n",
        "print('f1 score')\n",
        "f1_score(y_test, y_pred)\n",
        "print('precision accuracy ')\n",
        "precision_score(y_test, y_pred)\n"
      ],
      "id": "aAkWryXtWpal"
    }
  ],
  "metadata": {
    "colab": {
      "collapsed_sections": [],
      "name": "project.ipynb",
      "provenance": []
    },
    "hide_input": false,
    "kernelspec": {
      "display_name": "Python 3",
      "language": "python",
      "name": "python3"
    },
    "language_info": {
      "codemirror_mode": {
        "name": "ipython",
        "version": 3
      },
      "file_extension": ".py",
      "mimetype": "text/x-python",
      "name": "python",
      "nbconvert_exporter": "python",
      "pygments_lexer": "ipython3",
      "version": "3.8.8"
    }
  },
  "nbformat": 4,
  "nbformat_minor": 5
}